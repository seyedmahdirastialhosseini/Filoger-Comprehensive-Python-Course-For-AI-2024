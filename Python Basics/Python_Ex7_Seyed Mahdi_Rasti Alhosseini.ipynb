{
 "cells": [
  {
   "cell_type": "markdown",
   "id": "fb7a8054",
   "metadata": {},
   "source": [
    "<div style=\"color: white;padding-top:18px;text-align:center;background-color:#8B008B;border-radius:15px;border: 1px solid white;\"> \n",
    "    <h3>Exercise 7 (score:550)</h3>\n",
    "</div>"
   ]
  },
  {
   "cell_type": "markdown",
   "id": "bd5458df",
   "metadata": {},
   "source": [
    "<div style=\"color: black;font-family:Georgia;padding-top:18px;text-align:left;background-color:lightskyblue;border-radius:15px;border: 2px solid cornflowerblue;\">\n",
    "    <h4>Question 01 (Function)(100):</h4>\n",
    "    <p>\n",
    "        define two lists that one of them is strings and another is float, change values of both of them to int and create a list that is sum of them. use map function and lambda. \n",
    "    </p>\n",
    "</div>"
   ]
  },
  {
   "cell_type": "code",
   "execution_count": 3,
   "id": "99937553-2a26-4787-b365-d46f41243c5e",
   "metadata": {},
   "outputs": [
    {
     "name": "stdout",
     "output_type": "stream",
     "text": [
      "[33, 58, 32]\n"
     ]
    }
   ],
   "source": [
    "List1 = [\"12\" , \"15\" , \"19\"]\n",
    "List2 = [21.0 , 43.5 , 13.9]\n",
    "List1_new = list(map(int , List1))\n",
    "List2_new = list(map(int , List2))\n",
    "sum_lists = lambda x , y : x + y\n",
    "final_list = list(map(sum_lists , List1_new , List2_new))\n",
    "print(final_list)"
   ]
  },
  {
   "cell_type": "markdown",
   "id": "014bb5de",
   "metadata": {},
   "source": [
    "<div style=\"color: black;font-family:Georgia;padding-top:18px;text-align:left;background-color:lightskyblue;border-radius:15px;border: 2px solid cornflowerblue;\">\n",
    "    <h4>Question 02 (Function)(100):</h4>\n",
    "    <p>\n",
    "        Write a Python program where users input two numbers and choose an operation ( +, -, *, /,**).Use lambda functions for calculations. If division is chosen and the second number is zero, replace it with one, notify the user, and proceed. The program should handle invalid operations gracefully.  \n",
    "    </p>\n",
    "</div>"
   ]
  },
  {
   "cell_type": "code",
   "execution_count": 5,
   "id": "064621d4",
   "metadata": {},
   "outputs": [
    {
     "name": "stdout",
     "output_type": "stream",
     "text": [
      "12.0\n"
     ]
    }
   ],
   "source": [
    "Number1 = int(input(\"Say your first number!\"))\n",
    "Number2 = int(input(\"Say your second number!\"))\n",
    "Symbol = input((\"Say your Mathematical symbol ; + , - , * , / , ** , exit\"))\n",
    "\n",
    "def calculat(x , y , z) : \n",
    "        Symbols = \"+\" , \"-\" , \"*\" , \"/\" , \"**\"\n",
    "        if z in Symbols :\n",
    "                if z == \"+\" :\n",
    "                        sum_numbers = lambda e , r : e + r\n",
    "                        return sum_numbers(x,y)\n",
    "                elif z == \"-\" :\n",
    "                        minus_numbers = lambda t , u : t - u \n",
    "                        return minus_numbers(x , y)\n",
    "                elif z == \"*\" :\n",
    "                        multiplication_numbers = lambda o , p : o * p\n",
    "                        return multiplication_numbers(x , y)\n",
    "                elif z == \"/\" :\n",
    "                        if y == 0 :\n",
    "                                y = 1\n",
    "                                division_numbers = lambda g , h : g / h\n",
    "                                return division_numbers(x , y)\n",
    "                        else:\n",
    "                                division_numbers = lambda g , h : g / h\n",
    "                                return division_numbers(x , y)\n",
    "                elif z == \"**\" :\n",
    "                        power_numbers = lambda c , v : c ** v\n",
    "                        return power_numbers(x , y)\n",
    "        else : \n",
    "                print(\"Your Mathematical symbol not found!\")\n",
    "\n",
    "Resault = calculat(Number1 , Number2 , Symbol)\n",
    "print(f\"{Number1} {Symbol} {Number2} = {Resault}\")"
   ]
  },
  {
   "cell_type": "markdown",
   "id": "5c81e750",
   "metadata": {},
   "source": [
    "<div style=\"color: black;font-family:Georgia;padding-top:18px;text-align:left;background-color:lightskyblue;border-radius:15px;border: 2px solid cornflowerblue;\">\n",
    "    <h4>Question 03 (Function)(100):</h4>\n",
    "    <p>\n",
    "        You have a list of numbers, and you need to perform the following tasks using the filter function: </p> \n",
    "        <p>•\tWrite a function that filters out all the negative numbers from the list.</p>\n",
    "        <p>•\tWrite a function that filters out all the numbers that are less than the average of the list.</p>\n",
    "       <p> •\tWrite a function that filters out all the even numbers from the list.</p>\n",
    "    </p>\n",
    "</div>"
   ]
  },
  {
   "cell_type": "code",
   "execution_count": 14,
   "id": "50e67dcd",
   "metadata": {},
   "outputs": [
    {
     "name": "stdout",
     "output_type": "stream",
     "text": [
      "[53, 87, 11]\n"
     ]
    }
   ],
   "source": [
    "List1 = [-1 , 0 , 53 , 87 , -28 , 11 , -70]\n",
    "\n",
    "sum_numbers = sum(List1)\n",
    "average = round(sum_numbers / len(List1))  \n",
    "\n",
    "negative_numbers = lambda x : x > 0 \n",
    "\n",
    "numbers_less_average = lambda z : z > average\n",
    "\n",
    "even_numbers = lambda y : y % 2 != 0\n",
    "\n",
    "# Main \n",
    "\n",
    "Resault1 = list(filter(negative_numbers , List1))  \n",
    "Resault2 = list(filter(numbers_less_average , Resault1))\n",
    "Resault3 = list(filter(even_numbers , Resault2))\n",
    "\n",
    "print(Resault3)"
   ]
  },
  {
   "cell_type": "markdown",
   "id": "34326ff6",
   "metadata": {},
   "source": [
    "<div style=\"color: black;font-family:Georgia;padding-top:18px;text-align:left;background-color:lightskyblue;border-radius:15px;border: 2px solid cornflowerblue;\">\n",
    "    <h4>Question 04 (Function)(100):</h4>\n",
    "    <p>\n",
    "        Write a function that takes a list of email addresses and returns a new list containing only the valid email addresses. For simplicity, consider an email valid if it contains exactly one \"@11 symbol and at least one \".11 after the 11@\" symbol. Use the filter function to accomplish this. \n",
    "    </p>\n",
    "</div>"
   ]
  },
  {
   "cell_type": "code",
   "execution_count": 1,
   "id": "3384ea23",
   "metadata": {},
   "outputs": [
    {
     "name": "stdout",
     "output_type": "stream",
     "text": [
      "s.mahdirasti@gmail.com\n"
     ]
    }
   ],
   "source": [
    "List1 = []\n",
    "email_numbers = int(input(\"Say the number of emails: \"))\n",
    "for i in range(email_numbers) : \n",
    "    Email = input((\"Say your Email address!\"))\n",
    "    List1.append(Email)\n",
    "\n",
    "def Email_check(x = \"\") :\n",
    "    if \"@\" in x :\n",
    "        email_split = x.split(\"@\")\n",
    "        if \".\" in email_split[1] :\n",
    "            return True\n",
    "    return False\n",
    "\n",
    "for email in List1 :\n",
    "    if Email_check(email) :\n",
    "        print(email)"
   ]
  },
  {
   "cell_type": "markdown",
   "id": "f31d7edb",
   "metadata": {},
   "source": [
    "<div style=\"color: black;font-family:Georgia;padding-top:18px;text-align:left;background-color:lightskyblue;border-radius:15px;border: 2px solid cornflowerblue;\">\n",
    "    <h4>Question 05 (Function)(100):</h4>\n",
    "    <p>\n",
    "        Write a function that takes a list of integers and checks if any of the numbers are greater than 100 but less than 200. The function should return True if at least one number in the list falls \n",
    "        within this range, otherwise False. \n",
    "    </p>\n",
    "</div>"
   ]
  },
  {
   "cell_type": "code",
   "execution_count": 17,
   "id": "6fb8490b",
   "metadata": {},
   "outputs": [
    {
     "name": "stdout",
     "output_type": "stream",
     "text": [
      "False\n"
     ]
    }
   ],
   "source": [
    "List1 = []\n",
    "number_of_numbers = int(input(\"Say the number of numbers: \"))\n",
    "for i in range(number_of_numbers) :\n",
    "    Number = int(input(\"Say a number!\"))\n",
    "    List1.append(Number)\n",
    "Resault = any(map(lambda x : 100 < x < 200 , List1))\n",
    "print(Resault)"
   ]
  },
  {
   "cell_type": "markdown",
   "id": "5a2189dd",
   "metadata": {},
   "source": [
    "<div style=\"color: black;font-family:Georgia;padding-top:18px;text-align:left;background-color:lightskyblue;border-radius:15px;border: 2px solid cornflowerblue;\">\n",
    "    <h4>Question 06 (Function)(50):</h4>\n",
    "    <p>\n",
    "        Define a function that takes a sentence as input and returns the number of words in the sentence. \n",
    "    </p>\n",
    "</div>"
   ]
  },
  {
   "cell_type": "code",
   "execution_count": 11,
   "id": "e7a1fa52",
   "metadata": {},
   "outputs": [
    {
     "name": "stdout",
     "output_type": "stream",
     "text": [
      "4\n"
     ]
    }
   ],
   "source": [
    "Sentence = input((\"Say a sentence!\"))\n",
    "List1 = Sentence.split(\" \")\n",
    "Number_sentence = lambda x : len(x)\n",
    "Resault = Number_sentence(List1)\n",
    "print(Resault)"
   ]
  },
  {
   "cell_type": "markdown",
   "id": "293056e3",
   "metadata": {},
   "source": [
    "<h2 style=\"color: blue:; background-color: purple\">Good luck</h2>"
   ]
  }
 ],
 "metadata": {
  "kernelspec": {
   "display_name": "Python 3 (ipykernel)",
   "language": "python",
   "name": "python3"
  },
  "language_info": {
   "codemirror_mode": {
    "name": "ipython",
    "version": 3
   },
   "file_extension": ".py",
   "mimetype": "text/x-python",
   "name": "python",
   "nbconvert_exporter": "python",
   "pygments_lexer": "ipython3",
   "version": "3.12.4"
  }
 },
 "nbformat": 4,
 "nbformat_minor": 5
}
