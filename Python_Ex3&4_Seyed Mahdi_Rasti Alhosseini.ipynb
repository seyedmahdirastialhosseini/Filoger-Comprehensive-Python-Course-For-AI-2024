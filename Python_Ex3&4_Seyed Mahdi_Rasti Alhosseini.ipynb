{
 "cells": [
  {
   "cell_type": "markdown",
   "metadata": {},
   "source": [
    "<div style=\"color: white;padding-top:18px;text-align:center;background-color:#8B008B;border-radius:15px;border: 1px solid white;\"> \n",
    "    <h3>Exercise 3 (score:350)</h3>\n",
    "</div>"
   ]
  },
  {
   "cell_type": "markdown",
   "metadata": {},
   "source": [
    "<div style=\"color: black;font-family:Georgia;padding-top:18px;text-align:left;background-color:lightskyblue;border-radius:15px;border: 2px solid cornflowerblue;\"> \n",
    "    <h4>Question 01 (String)</h4>\n",
    "    <p>Get a string from user and check length of that, if length of string was even\n",
    "show first half of string otherwise print last half of string.\n",
    "</p>\n",
    "    \n",
    "</div>"
   ]
  },
  {
   "cell_type": "code",
   "execution_count": 28,
   "metadata": {},
   "outputs": [
    {
     "name": "stdout",
     "output_type": "stream",
     "text": [
      "Mar\n"
     ]
    }
   ],
   "source": [
    "String1 = input((\"Say a string!(word , sentence or something like that.)\"))\n",
    "len_string1 = len(String1)\n",
    "half_of_len_string1 = int(len_string1 / 2)\n",
    "if len_string1 % 2 == 0 :\n",
    "    print(String1[0:0+half_of_len_string1])\n",
    "else : print(String1[0+half_of_len_string1:0+len_string1+1])"
   ]
  },
  {
   "cell_type": "markdown",
   "metadata": {},
   "source": [
    "<div style=\"color: black;font-family:Georgia;padding-top:18px;text-align:left;background-color:lightskyblue;border-radius:15px;border: 1px solid cornflowerblue;\"> \n",
    "    <h4>Question 02 (String)</h4>\n",
    "<p>\n",
    "based on the below text answer to questions.\n",
    "</p>\n",
    "\n",
    "<ul>\n",
    "    <li>\n",
    "        Divide the text into two halves. If length of string is odd, include the middle character in the first half.\n",
    "    </li>\n",
    "    <br>\n",
    "    <li>\n",
    "        In the first half of the text, replace all occurrences of the word \"Python\" with \"Java\".\n",
    "    </li>\n",
    "    <br>\n",
    "    <li>\n",
    "       In the second half of the text, replace all occurrences of the word \"Python\" with \"C++\" \n",
    "    </li>\n",
    "    <br>\n",
    "    <li>\n",
    "        Combine both halves back into a single text and print the modified text\n",
    "    </li>\n",
    "    <br>\n",
    "    <li>\n",
    "        How many times was the word \"Python\" replaced in the first half?\n",
    "    </li>\n",
    "    <br>\n",
    "    <li>\n",
    "        How many times was the word \"Python\" replaced in the second half?\n",
    "    </li>\n",
    "</ul>\n",
    "\n",
    "<br>\n",
    "<p>Here is the text:</p>\n",
    "\n",
    "<p>\n",
    "    Python is a widely-used programming language known for its simplicity. Python supports various\n",
    "    programming paradigms. Python's code readability makes it a favorite among developers. Python is\n",
    "    ideal for rapidly prototyping applications.\n",
    "</p>\n",
    "\n",
    "</div>"
   ]
  },
  {
   "cell_type": "code",
   "execution_count": 50,
   "metadata": {},
   "outputs": [
    {
     "name": "stdout",
     "output_type": "stream",
     "text": [
      "Python is a widely-used programming language known for its simplicity. Python supports various programming paradigms.\n",
      " Python's code readability makes it a favorite among developers. Python is ideal for rapidly prototyping applications\n",
      "Java is a widely-used programming language known for its simplicity. Java supports various programming paradigms.\n",
      " C++'s code readability makes it a favorite among developers. C++ is ideal for rapidly prototyping applications\n",
      "Java is a widely-used programming language known for its simplicity. Java supports various programming paradigms. C++'s code readability makes it a favorite among developers. C++ is ideal for rapidly prototyping applications\n",
      "2\n",
      "2\n"
     ]
    }
   ],
   "source": [
    "String1 = \"\"\"Python is a widely-used programming language known for its simplicity. Python supports various programming paradigms. Python's code readability makes it a favorite among developers. Python is ideal for rapidly prototyping applications.\"\"\"\n",
    "len_string1 = len(String1)\n",
    "half_of_len_string1 = int(len_string1/2)\n",
    "String1_first = String1[0:half_of_len_string1]\n",
    "String1_seccond = String1[half_of_len_string1:-1]\n",
    "print(String1_first)\n",
    "print(String1_seccond)\n",
    "String1_first_new = String1_first.replace(\"Python\" , \"Java\")\n",
    "print(String1_first_new)\n",
    "String1_seccond_new = String1_seccond.replace(\"Python\" , \"C++\")\n",
    "print(String1_seccond_new)\n",
    "String2 = String1_first_new + String1_seccond_new \n",
    "print(String2)\n",
    "String1_first_count = String1_first.count(\"Python\")\n",
    "print(String1_first_count)\n",
    "String1_seccond_count = String1_seccond.count(\"Python\")\n",
    "print(String1_seccond_count)"
   ]
  },
  {
   "cell_type": "markdown",
   "metadata": {},
   "source": [
    "<div style=\"color: black;font-family:Georgia;padding-top:18px;text-align:left;background-color:lightskyblue;border-radius:15px;border: 1px solid cornflowerblue;\"> \n",
    "    <h4>Question 03 (String)</h4>\n",
    "<p>Write a program that prompts the user to enter a text. The program should then\n",
    "remove all the spaces from the entered text and display the result.</p>\n",
    "\n",
    "</div>"
   ]
  },
  {
   "cell_type": "code",
   "execution_count": 1,
   "metadata": {},
   "outputs": [
    {
     "name": "stdout",
     "output_type": "stream",
     "text": [
      "Mahdi.\n",
      "M.hdi\n"
     ]
    }
   ],
   "source": [
    "## If we want to remove first and last spaces , we can use this method below.\n",
    "Entrance = input((\"Write a text!\"))\n",
    "Entrance1 = Entrance.strip()\n",
    "print(Entrance1)\n",
    "## If we want to remove all spaces in text , we can use this code below.\n",
    "Entrance = input((\"Write a text!\"))\n",
    "Entrance_without_space = Entrance.replace(\" \" , \"\")\n",
    "print(Entrance_without_space)"
   ]
  },
  {
   "cell_type": "markdown",
   "metadata": {},
   "source": [
    "<div style=\"color: black;font-family:Georgia;padding-top:18px;text-align:left;background-color:lightskyblue;border-radius:15px;border: 1px solid cornflowerblue;\"> \n",
    "    <h4>Question 04 (String)</h4>\n",
    "<p>Write a program that prompts the user to enter two strings. if the second\n",
    "string is present in the first string, remove it, otherwise add the second\n",
    "string at the start and end of the first string. Display the new string in the\n",
    "output.</p>\n",
    "\n",
    "</div>"
   ]
  },
  {
   "cell_type": "code",
   "execution_count": 4,
   "metadata": {},
   "outputs": [
    {
     "name": "stdout",
     "output_type": "stream",
     "text": [
      "Learinig java! Teaching python! Learinig java!\n"
     ]
    }
   ],
   "source": [
    "Entrance1 = input((\"Write a text!\"))\n",
    "Entrance2 = input((\"Write a text!\"))\n",
    "if Entrance2 in Entrance1 :\n",
    "    Entrance1_new = Entrance1.replace(Entrance2 , \"\")\n",
    "    print(Entrance1_new)\n",
    "else : print(Entrance2 , Entrance1 , Entrance2)"
   ]
  },
  {
   "cell_type": "markdown",
   "metadata": {},
   "source": [
    "<div style=\"color: black;font-family:Georgia;padding-top:18px;text-align:left;background-color:lightskyblue;border-radius:15px;border: 1px solid cornflowerbue;\"> \n",
    "    <h4>Question 05 (String)\n",
    "</h4>\n",
    "<p>Write a program that prompts the user to enter a password. The program\n",
    "should validate the password based on the following criteria:</p>\n",
    "\n",
    "<ul>\n",
    "    <li>The length of the password must be exactly 8 characters.</li>\n",
    "    <li>The first four characters of the password must be letters (alphabets).</li>\n",
    "    <li>The last four characters of the password must be digits (numbers).</li>\n",
    "    <li>If the password meets all the above criteria, the program should display \"Valid\".\n",
    "        Otherwise, it should display \"Invalid\".\n",
    "    </li>\n",
    "    <br>\n",
    "</ul>\n",
    "\n",
    "</div>"
   ]
  },
  {
   "cell_type": "code",
   "execution_count": 20,
   "metadata": {},
   "outputs": [
    {
     "name": "stdout",
     "output_type": "stream",
     "text": [
      "Valid!\n"
     ]
    }
   ],
   "source": [
    "Entrance1 = input((\"Say your password!\"))\n",
    "Entrance1_len = len(Entrance1)\n",
    "if Entrance1_len == 8 and Entrance1[0:4].isalpha() == True and Entrance1[4:8].isdigit() == True :\n",
    "    print(\"Valid!\")\n",
    "else : print(\"Invalid!\")"
   ]
  },
  {
   "cell_type": "markdown",
   "metadata": {},
   "source": [
    "<div style=\"color: white;padding-top:18px;text-align:center;background-color:#8B008B;border-radius:15px;border: 1px solid white;\"> \n",
    "    <h3>Exercise 4 (score:300)</h3>\n",
    "</div>"
   ]
  },
  {
   "cell_type": "markdown",
   "metadata": {},
   "source": [
    "<div style=\"color: black;font-family:Georgia;padding-top:18px;text-align:left;background-color:lightskyblue;border-radius:15px;border: 1px solid cornflowerblue;\"> \n",
    "    <h4>Question 01 (Loop)</h4>\n",
    "<p>Create a program that prompts the user to input a string. The program should\n",
    "then analyze the string to determine the number of alphabetic characters\n",
    "(letters) and the number of numeric characters (digits) contained within it.\n",
    "</p>\n",
    "\n",
    "</div>"
   ]
  },
  {
   "cell_type": "code",
   "execution_count": 2,
   "metadata": {},
   "outputs": [
    {
     "name": "stdout",
     "output_type": "stream",
     "text": [
      "Number of alphabets: 5 and Number of digits: 4\n"
     ]
    }
   ],
   "source": [
    "Number1 = 0\n",
    "Number2 = 0\n",
    "Entrance1 = input((\"Say a string!(word , sentence , number or something like that.)\"))\n",
    "for i in Entrance1:\n",
    "    if i.isdigit() == True :\n",
    "        Number1 += 1\n",
    "    elif i.isalpha() == True :\n",
    "        Number2 += 1\n",
    "print(f\"Number of alphabets: {Number2} and Number of digits: {Number1}\")"
   ]
  },
  {
   "cell_type": "markdown",
   "metadata": {},
   "source": [
    "<div style=\"color: black;font-family:Georgia;padding-top:18px;text-align:left;background-color:lightskyblue;border-radius:15px;border: 1px solid cornflowerblue;\"> \n",
    "    <h4>Question 02 (Loop)</h4>\n",
    "<p>Get five strings from the user using a loop and display each of them that has a\n",
    "length greater than 6.\n",
    "</p>\n",
    "\n",
    "</div>"
   ]
  },
  {
   "cell_type": "code",
   "execution_count": 3,
   "metadata": {},
   "outputs": [
    {
     "name": "stdout",
     "output_type": "stream",
     "text": [
      "mahdi1388\n",
      "mahdiar\n"
     ]
    }
   ],
   "source": [
    "for i in range(5) :\n",
    "    String1 = input((\"Say a string!(word , sentence or something like that.)\"))\n",
    "    len_string1 = len(String1)\n",
    "    if len_string1 > 6 :\n",
    "        print(String1)"
   ]
  },
  {
   "cell_type": "markdown",
   "metadata": {},
   "source": [
    "<div style=\"color: black;font-family:Georgia;padding-top:18px;text-align:left;background-color:lightskyblue;border-radius:15px;border: 1px solid cornflowerblue;\"> \n",
    "    <h4>Question 03 (Loop)</h4>\n",
    "<p>Write a program to analyze the scores of 10 students in a class. You need to\n",
    "collect the name and score (out of 20) for each student. Based on their\n",
    "scores, you need to assign them a level as follows: \n",
    "</p>\n",
    "\n",
    "<ul>\n",
    "    <li>A+ : If the score is between 17 and 20 (inclusive)</li>\n",
    "    <li>A : If the score is between 15 and less than 17</li>\n",
    "    <li>B : If the score is between 10 and less than 15</li>\n",
    "    <li>C : If the score is less than 10</li>\n",
    "</ul>\n",
    "\n",
    "<p>\n",
    "    Your program should display the following:\n",
    "</p>\n",
    "\n",
    "<ul>\n",
    "    <li>The name, score, and level of each student.</li>\n",
    "    <li>The name and score of the student with the highest score.</li>\n",
    "    <li>The name and score of the student with the lowest score.</li>\n",
    "    <li>The average score of the class.</li>\n",
    "    <li>\n",
    "        Make sure to validate the input to ensure that the score is a positive number and less than\n",
    "        or equal to 20.\n",
    "    </li>\n",
    "</ul>\n",
    "\n",
    "</div>"
   ]
  },
  {
   "cell_type": "code",
   "execution_count": 36,
   "metadata": {},
   "outputs": [
    {
     "name": "stdout",
     "output_type": "stream",
     "text": [
      "Studen Name: Mahdi , Sccore: 10.0 , Level: B\n",
      "Studen Name: Ali , Sccore: 15.0 , Level: A\n",
      "Studen Name: Reza , Sccore: 19.25 , Level: A+\n",
      "Highest Score is 19.25 , by Reza\n",
      "Lowest Score is 10.0 , by Mahdi\n",
      "Average of scores is 14.75\n"
     ]
    }
   ],
   "source": [
    "n = 3\n",
    "Highest_score = 0\n",
    "Highest_name = \"\"\n",
    "Lowest_score = 20\n",
    "Lowest_name = \"\"\n",
    "Total_score = 0\n",
    "\n",
    "for i in range(n) :\n",
    "    Name = input((\"Say student name!\"))\n",
    "    Score = float(input((\"Say student sccore!\")))\n",
    "    \n",
    "    if Score <= 20 and Score >= 0 :\n",
    "        if Score >= 17 :\n",
    "            print(f\"Studen Name: {Name} , Sccore: {Score} , Level: A+\")\n",
    "        elif Score >= 15 :\n",
    "            print(f\"Studen Name: {Name} , Sccore: {Score} , Level: A\")\n",
    "        elif Score >= 10 :\n",
    "            print(f\"Studen Name: {Name} , Sccore: {Score} , Level: B\")\n",
    "        elif Score < 10 :\n",
    "            print(f\"Studen Name: {Name} , Sccore: {Score} , Level: C\")\n",
    "\n",
    "        Total_score += Score \n",
    "        \n",
    "        if Score > Highest_score :\n",
    "            Highest_score = Score\n",
    "            Highest_name = Name\n",
    "\n",
    "        if Score < Lowest_score :\n",
    "            Lowest_score = Score\n",
    "            Lowest_name = Name\n",
    "    else : \n",
    "        print(\"Your student sccore out of range!\") \n",
    "        n -= 1  \n",
    "\n",
    "Average = Total_score / n\n",
    "\n",
    "print(f\"Highest Score is {Highest_score} , by {Highest_name}\")\n",
    "print(f\"Lowest Score is {Lowest_score} , by {Lowest_name}\")\n",
    "print(f\"Average of scores is {Average}\")"
   ]
  },
  {
   "cell_type": "markdown",
   "metadata": {},
   "source": [
    "<div style=\"color: black;font-family:Georgia;padding-top:18px;text-align:left;background-color:lightskyblue;border-radius:15px;border: 1px solid cornflowerblue;\"> \n",
    "    <h4>Question 04 (Loop)\n",
    "</h4>\n",
    "<p>\n",
    "Write a Python program to iterate through the numbers 1 to 10. For each\n",
    "number, if it is odd, multiply it by 5 and if it is even, add 5 to it. Display each\n",
    "operation as it is performed, and at the end, show the sum of the numbers\n",
    "obtained from the even numbers and the product of the numbers obtained from\n",
    "the odd numbers. Your output should follow the format shown below:\n",
    "\n",
    "</p>\n",
    "<ul>\n",
    "    <li>1 * 5 = 5</li>\n",
    "    <li>2 + 5 = 7</li>\n",
    "    <li>3 * 5 = 15</li>\n",
    "    <li>4 + 5 = 9</li>\n",
    "    <li>5 * 5 = 25</li>\n",
    "    <li>6 + 5 = 11</li>\n",
    "    <li>7 * 5 = 35</li>\n",
    "    <li>8 + 5 = 13</li>\n",
    "    <li>9 * 5 = 45</li>\n",
    "    <li>10 + 5 = 15</li>\n",
    "</ul>\n",
    "\n",
    "</div>"
   ]
  },
  {
   "cell_type": "code",
   "execution_count": 46,
   "metadata": {},
   "outputs": [
    {
     "name": "stdout",
     "output_type": "stream",
     "text": [
      "6\n"
     ]
    }
   ],
   "source": [
    "Entrance1 = int(input((\"Say a number!\")))\n",
    "if Entrance1 > 10 or Entrance1 < 1 :\n",
    "    print(\"Your number is out of range!\")\n",
    "elif Entrance1% 2 == 0 :\n",
    "    print(Entrance1*5)\n",
    "else : print(Entrance1+5)"
   ]
  },
  {
   "cell_type": "code",
   "execution_count": 49,
   "metadata": {},
   "outputs": [
    {
     "name": "stdout",
     "output_type": "stream",
     "text": [
      "1 * 5 = 5\n",
      "2 + 5 = 7\n",
      "3 * 5 = 15\n",
      "4 + 5 = 9\n",
      "5 * 5 = 25\n",
      "6 + 5 = 11\n",
      "7 * 5 = 35\n",
      "8 + 5 = 13\n",
      "9 * 5 = 45\n",
      "10 + 5 = 15\n",
      "Product of odd numbers is 2953125 and The sum of even numbers is 55\n"
     ]
    }
   ],
   "source": [
    "Product_odd = 1\n",
    "Sum_even = 0\n",
    "for i in range (1,11) : \n",
    "    if i % 2 != 0 :\n",
    "        Result1 = i * 5\n",
    "        print(f\"{i} * 5 = {Result1}\") \n",
    "        Product_odd *= Result1\n",
    "    else : \n",
    "        Result2 = i+5\n",
    "        print(f\"{i} + 5 = {Result2}\") \n",
    "        Sum_even += Result2\n",
    "print(f\"Product of odd numbers is {Product_odd} and The sum of even numbers is {Sum_even}\")"
   ]
  },
  {
   "cell_type": "markdown",
   "metadata": {},
   "source": [
    "<h2 style=\"color: blue:; background-color: purple\">Good luck</h2>"
   ]
  }
 ],
 "metadata": {
  "kernelspec": {
   "display_name": "Python 3",
   "language": "python",
   "name": "python3"
  },
  "language_info": {
   "codemirror_mode": {
    "name": "ipython",
    "version": 3
   },
   "file_extension": ".py",
   "mimetype": "text/x-python",
   "name": "python",
   "nbconvert_exporter": "python",
   "pygments_lexer": "ipython3",
   "version": "3.12.4"
  }
 },
 "nbformat": 4,
 "nbformat_minor": 2
}
