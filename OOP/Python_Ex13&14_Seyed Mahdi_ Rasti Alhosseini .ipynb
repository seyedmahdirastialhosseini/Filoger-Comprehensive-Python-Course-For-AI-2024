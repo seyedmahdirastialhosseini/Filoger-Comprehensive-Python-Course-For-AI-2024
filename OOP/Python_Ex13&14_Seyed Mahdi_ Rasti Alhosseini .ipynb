{
 "cells": [
  {
   "cell_type": "markdown",
   "id": "ead54e1a",
   "metadata": {},
   "source": [
    "<div style=\"color: white;padding-top:18px;text-align:center;background-color:#610C9F;border-radius:15px;border: 1px solid white;\"> \n",
    "    <h3>Exercise 13 (score:300 + 50(GitHub)\n",
    "    )</h3>\n",
    "</div>"
   ]
  },
  {
   "cell_type": "markdown",
   "id": "9986a78d",
   "metadata": {},
   "source": [
    "<div style=\"color: white;padding-top:18px;text-align:left;background-color:#940B92;border-radius:15px;border: 1px solid white;\"> \n",
    "    <h4>Question 01 (OOP)(100):</h4>\n",
    "    <p>Create a class Rectangle with attributes length and width and methods area(),\n",
    "</p>\n",
    "<p>perimeter() and display()for show length and width. Test your class by creating</p>\n",
    "<p>two objects and call attributes and methods forthis objects</p>\n",
    "</div>"
   ]
  },
  {
   "cell_type": "code",
   "execution_count": null,
   "id": "0cd6d9c9",
   "metadata": {},
   "outputs": [],
   "source": [
    "# My GitHub link :\n",
    "# https://github.com/seyedmahdirastialhosseini/Filoger-Comprehensive-Python-Course-For-AI-2024"
   ]
  },
  {
   "cell_type": "code",
   "execution_count": 1,
   "id": "7710ae23",
   "metadata": {},
   "outputs": [],
   "source": [
    "class Rectangle :\n",
    "    def __init__(self , length , width) :\n",
    "        self.length = length\n",
    "        self.width = width\n",
    "\n",
    "    def area(self) :\n",
    "        area = self.length * self.width\n",
    "        return f\"The area of your rectangle is {area}\"\n",
    "    \n",
    "    def perimeter(self) :\n",
    "        perimeter = (self.length + self.width) * 2\n",
    "        return f\"The perimeter of your rectangle is {perimeter}\"\n",
    "    \n",
    "    def display(self) :\n",
    "        return f\"The length of your rectangle is {self.length} and the width of your rectangle is {self.width}\""
   ]
  },
  {
   "cell_type": "code",
   "execution_count": 2,
   "id": "b76deb8d",
   "metadata": {},
   "outputs": [
    {
     "name": "stdout",
     "output_type": "stream",
     "text": [
      "The length of your rectangle is 12 and the width of your rectangle is 15\n",
      "The perimeter of your rectangle is 54\n",
      "The area of your rectangle is 180\n"
     ]
    }
   ],
   "source": [
    "obj1 = Rectangle(12 , 15)\n",
    "print(obj1.display())\n",
    "print(obj1.perimeter())\n",
    "print(obj1.area())"
   ]
  },
  {
   "cell_type": "code",
   "execution_count": 4,
   "id": "f5e0bab1",
   "metadata": {},
   "outputs": [
    {
     "name": "stdout",
     "output_type": "stream",
     "text": [
      "The length of your rectangle is 18 and the width of your rectangle is 23\n",
      "The perimeter of your rectangle is 82\n",
      "The area of your rectangle is 414\n"
     ]
    }
   ],
   "source": [
    "obj2 = Rectangle(18 , 23)\n",
    "print(obj2.display())\n",
    "print(obj2.perimeter())\n",
    "print(obj2.area())"
   ]
  },
  {
   "cell_type": "markdown",
   "id": "488e01d2",
   "metadata": {},
   "source": [
    "<div style=\"color: white;padding-top:18px;text-align:left;background-color:#940B92;border-radius:15px;border: 1px solid white;\"> \n",
    "    <h4>Question 02 (OOP)(100)</h4>\n",
    "<p> Create a Class Calculator</p>\n",
    "<p>Methods: Should include at least add(x, y), subtract(x, y), multiply(x, y), \n",
    "and divide(x, y). Each method performs the respective operation and \n",
    "returns the result.</p>"
   ]
  },
  {
   "cell_type": "code",
   "execution_count": 14,
   "id": "0d6db2ad",
   "metadata": {},
   "outputs": [],
   "source": [
    "class Calculator :\n",
    "    def add(self , x , y) :\n",
    "        resault1 = x + y \n",
    "        return f\"{x} + {y} = {resault1}\" \n",
    "    \n",
    "    def subtract(self , x , y) :\n",
    "        resault2 = x - y \n",
    "        return f\"{x} - {y} = {resault2}\"  \n",
    "\n",
    "    def multiply(self , x , y) :\n",
    "        resault3 = x * y \n",
    "        return f\"{x} × {y} = {resault3}\" \n",
    "\n",
    "    def divide(self , x , y) :\n",
    "        try :\n",
    "            resault4 = x / y \n",
    "        except ZeroDivisionError as e :\n",
    "            print(e)\n",
    "        else :\n",
    "            return f\"{x} ÷ {y} = {resault4}\" "
   ]
  },
  {
   "cell_type": "code",
   "execution_count": 15,
   "id": "5bacff0d",
   "metadata": {},
   "outputs": [
    {
     "name": "stdout",
     "output_type": "stream",
     "text": [
      "15 + 3 = 18\n",
      "15 - 3 = 12\n",
      "15 × 3 = 45\n",
      "15 ÷ 3 = 5.0\n"
     ]
    }
   ],
   "source": [
    "obj3 = Calculator()\n",
    "print(obj3.add(15 , 3))\n",
    "print(obj3.subtract(15 , 3))\n",
    "print(obj3.multiply(15 , 3))\n",
    "print(obj3.divide(15 , 3))"
   ]
  },
  {
   "cell_type": "markdown",
   "id": "021be85c",
   "metadata": {},
   "source": [
    "<div style=\"color: white;padding-top:18px;text-align:left;background-color:#940B92;border-radius:15px;border: 1px solid white;\"> \n",
    "    <h4>Question 03 (OOP)(100)</h4>\n",
    "<p><b>Class Counter</b></p>\n",
    "<p>Attribute: count, initially set to zero.</p>\n",
    "<p>Methods:</p>\n",
    " <p>increment(): Increments count by 1.</p>\n",
    " <p>decrement(): Decrements count by 1, but never below zero.</p>\n",
    " <p>reset(): Resets count to zero.</p>\n",
    " <p>get_count(): Returns the current value of count</p>\n",
    "</div>"
   ]
  },
  {
   "cell_type": "code",
   "execution_count": 5,
   "id": "32b3c29d",
   "metadata": {},
   "outputs": [],
   "source": [
    "class Counter :\n",
    "    def __init__(self) :\n",
    "        self.count = 0\n",
    "\n",
    "    def increment(self) : \n",
    "        self.count += 1\n",
    "        return\n",
    "    \n",
    "    def decrement(self) :\n",
    "        if self.count != 0 : \n",
    "            self.count -= 1\n",
    "        else : \n",
    "            return(\"Your count is 0!\")\n",
    "\n",
    "    def reset(self) :\n",
    "        self.count = 0\n",
    "    \n",
    "    def get_count(self) :\n",
    "        return f\"Your count now = {self.count}\""
   ]
  },
  {
   "cell_type": "code",
   "execution_count": 6,
   "id": "1ed91852",
   "metadata": {},
   "outputs": [
    {
     "name": "stdout",
     "output_type": "stream",
     "text": [
      "None\n",
      "None\n",
      "Your count now = 2\n",
      "None\n",
      "Your count now = 1\n",
      "None\n",
      "Your count now = 0\n"
     ]
    }
   ],
   "source": [
    "obj4 = Counter()\n",
    "print(obj4.increment())\n",
    "print(obj4.increment())\n",
    "print(obj4.get_count())\n",
    "print(obj4.decrement())\n",
    "print(obj4.get_count())\n",
    "print(obj4.reset())\n",
    "print(obj4.get_count())"
   ]
  },
  {
   "cell_type": "markdown",
   "id": "0e2c870c",
   "metadata": {},
   "source": [
    "<div style=\"color: white;padding-top:18px;text-align:center;background-color:#610C9F;border-radius:15px;border: 1px solid white;\"> \n",
    "    <h3>Exercise 14 (score:200 + 50(GitHub)\n",
    "    )</h3>\n",
    "</div>"
   ]
  },
  {
   "cell_type": "markdown",
   "id": "98cda4ff",
   "metadata": {},
   "source": [
    "<div style=\"color: white;padding-top:18px;text-align:left;background-color:#940B92;border-radius:15px;border: 1px solid white;\"> \n",
    "    <h4>Question 01 (methods, attribute)(200)</h4>\n",
    "<p>You need to create a Python class Book with the following specifications:<p>\n",
    "<p>Each book has a id,title, year, author, price, and discount(all provided when the book is\n",
    "created).<p>\n",
    "<p>The id of each book follows a specific format:the firsttwo characters should be letters,and the lasttwo should be digits (e.g.,\"AB12\"). Ifthe ID is not valid,raise a ValueError.<p>\n",
    "<p>The class should include a method to calculate the total price ofthe book. The total price is calculated as the book’s price minus the discount.<p>\n",
    "<p>Include a method that prints how many books have been created.<p>\n",
    "<p>Implementthe __str__ method thatreturns a string representing the book’s details in\n",
    "the following format: \"Title:{title}, Author:{author}, Year:{year}, Price:{total_price}\".<p>\n",
    "\n",
    "</div>"
   ]
  },
  {
   "cell_type": "code",
   "execution_count": 9,
   "id": "e3856ce6",
   "metadata": {},
   "outputs": [],
   "source": [
    "class Book :\n",
    "\n",
    "    number_of_objects = 0\n",
    "    total_price = 0\n",
    "    \n",
    "    def __init__(self , book_id , title , year , author , price , discount) :\n",
    "        self.id = book_id\n",
    "        self.title = title\n",
    "        self.year = year \n",
    "        self.author = author\n",
    "        self.price = price\n",
    "        self.discount = discount\n",
    "        Book.number_of_objects += 1\n",
    "        \n",
    "    def valid_id(self) :\n",
    "        if len(self.id) != 4 :\n",
    "            raise ValueError(\"Your ID must be 4 characters!\")\n",
    "        elif not self.id[:2].isalpha() :\n",
    "            raise ValueError(\"The first two characters of your ID must be letters!\")\n",
    "        elif not self.id[2:4].isdigit() :\n",
    "            raise ValueError(\"The last two characters of your ID must be numbers!\")\n",
    "        else : return \"Your id is valid!\"\n",
    "    \n",
    "    def calculate_total_price(self):\n",
    "        Book.total_price = self.price - (self.price * (self.discount / 100))\n",
    "        return f\"The total price of your book is {Book.total_price}\"\n",
    "    \n",
    "    @classmethod\n",
    "    def number_of_books(cls) :\n",
    "        return cls.number_of_objects\n",
    "    \n",
    "    def __str__(self):\n",
    "        return f\"Title: {self.title}, Author: {self.author}, Year: {self.year}, Price: {Book.total_price}\"\n",
    "    "
   ]
  },
  {
   "cell_type": "code",
   "execution_count": 8,
   "id": "a23cff7e",
   "metadata": {},
   "outputs": [
    {
     "name": "stdout",
     "output_type": "stream",
     "text": [
      "Your id is valid!\n",
      "The total price of your book is 833.4\n",
      "1\n",
      "Title: War and Peace, Author: Leo Tolstoy, Year: 1867, Price: 833.4\n"
     ]
    }
   ],
   "source": [
    "obj5 = Book(\"cd12\" , \"War and Peace\" , 1867 , \"Leo Tolstoy\" , 926 , 10)\n",
    "print(obj5.valid_id())\n",
    "print(obj5.calculate_total_price())\n",
    "print(Book.number_of_books())\n",
    "print(obj5)"
   ]
  }
 ],
 "metadata": {
  "kernelspec": {
   "display_name": "Python 3",
   "language": "python",
   "name": "python3"
  },
  "language_info": {
   "codemirror_mode": {
    "name": "ipython",
    "version": 3
   },
   "file_extension": ".py",
   "mimetype": "text/x-python",
   "name": "python",
   "nbconvert_exporter": "python",
   "pygments_lexer": "ipython3",
   "version": "3.12.4"
  }
 },
 "nbformat": 4,
 "nbformat_minor": 5
}
