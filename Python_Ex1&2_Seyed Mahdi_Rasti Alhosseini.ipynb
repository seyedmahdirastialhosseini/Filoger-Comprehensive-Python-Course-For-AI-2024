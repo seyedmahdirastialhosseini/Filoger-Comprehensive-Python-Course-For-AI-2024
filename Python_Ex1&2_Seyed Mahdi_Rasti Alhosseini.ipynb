{
 "cells": [
  {
   "cell_type": "markdown",
   "id": "fb7a8054",
   "metadata": {},
   "source": [
    "<div style=\"color: white;padding-top:0px;text-align:center;background-color:#257662;border-radius:15px;border: 1px solid white;\"> \n",
    "    <h3>Exercise 1 (score:350)</h3>\n",
    "</div>"
   ]
  },
  {
   "cell_type": "markdown",
   "id": "bd5458df",
   "metadata": {},
   "source": [
    "<div style=\"color: white;padding-top:0px;text-align:left;background-color:red;border-radius:15px;border: 1px solid white;\"> \n",
    "    <h4>Question 01 (Basic)(50):</h4>\n",
    "</div>"
   ]
  },
  {
   "cell_type": "code",
   "execution_count": 1,
   "id": "37ae1073-8e31-426a-ac70-111e4ffe2256",
   "metadata": {},
   "outputs": [
    {
     "name": "stdout",
     "output_type": "stream",
     "text": [
      "12\n",
      "12.45\n",
      "1\n",
      "123\n",
      "10.0\n",
      "4.0\n",
      "4.7\n",
      "51.0\n",
      "False\n",
      "True\n",
      "False\n",
      "True\n",
      "False\n",
      "False\n",
      "0.0\n"
     ]
    }
   ],
   "source": [
    "## convert to int\n",
    "num1 = 12.45\n",
    "num2 = \"12.45\"\n",
    "flag1 = True\n",
    "code = \"al23\"\n",
    "num3 = \"0123\"\n",
    "## solution\n",
    "num1 = int(num1)\n",
    "print(num1)\n",
    "num2 = float(num2)\n",
    "int(num2)\n",
    "print(num2)\n",
    "flag1 = int(flag1)\n",
    "print(flag1)\n",
    "## int(code) ===> ## this code is wrong because 'al' in value can't change to int.\n",
    "num3 = int(num3)\n",
    "print(num3)\n",
    "\n",
    "## convert to float\n",
    "num4 = 10 \n",
    "num5 = 4.\n",
    "num6 = \"4.7\"\n",
    "num7 = \"51\"\n",
    "name = \"python\"\n",
    "## solution\n",
    "num4 = float(num4)\n",
    "print(num4)\n",
    "num5 = float(num5)\n",
    "print(num5)\n",
    "num6 = float(num6)\n",
    "print(num6)\n",
    "num7 = float(num7)\n",
    "print(num7)\n",
    "## float(name) ===> ## this code is wrong because \"python\" can't change to int. (because \"python has word!\")\n",
    "\n",
    "## convert to bool\n",
    "flag3 = False\n",
    "flag4 = \"False\"\n",
    "name1 = \"\"\n",
    "name2 = \" \"\n",
    "num8 = 0\n",
    "## solution\n",
    "flag3 = bool(flag3)\n",
    "print(flag3)\n",
    "flag4 = bool(flag4)\n",
    "print(flag4)\n",
    "name1 = bool(name1)\n",
    "print(name1)\n",
    "name2 = bool(name2)\n",
    "print(name2)\n",
    "num8 = bool(num8)\n",
    "print(num8)\n",
    "\n",
    "## convert to str\n",
    "flag = False\n",
    "num = 0.000\n",
    "## solution\n",
    "flag = str(flag)\n",
    "print(flag)\n",
    "num = str(num)\n",
    "print(num)"
   ]
  },
  {
   "cell_type": "markdown",
   "id": "1d00f89c",
   "metadata": {},
   "source": [
    "<div style=\"color: white;padding-top:0px;text-align:left;background-color:red;border-radius:15px;border: 1px solid white;\"> \n",
    "    <h4>Question 02 (Basic)(50)</h4>\n",
    "</div>"
   ]
  },
  {
   "cell_type": "code",
   "execution_count": 2,
   "id": "3816d8c6-4af5-4d92-8c4b-042a7f86fb7e",
   "metadata": {},
   "outputs": [
    {
     "name": "stdout",
     "output_type": "stream",
     "text": [
      "900\n"
     ]
    }
   ],
   "source": [
    "x = \"300\"\n",
    "y = int(x)\n",
    "z = y + 200\n",
    "a = float(z)\n",
    "b = a + y ## error is here ====> (x) is string and can't combined with a number , so , we should change the type of (x) to int and combine it with (a).\n",
    "c = int(b) + 100\n",
    "print(c)\n",
    "## solution is in the code , because If I want to copy the code and write solution in that ; first code will be wrong and rest of codes will be wrong too."
   ]
  },
  {
   "cell_type": "markdown",
   "id": "db081bf6",
   "metadata": {},
   "source": [
    "<div style=\"color: white;padding-top:0px;text-align:left;background-color:red;border-radius:15px;border: 1px solid white;\"> \n",
    "    <h4>Question 03 (Basic)(50)</h4>\n",
    "</div>"
   ]
  },
  {
   "cell_type": "code",
   "execution_count": 4,
   "id": "365f6809-06ab-43ce-8f15-eb94e950723c",
   "metadata": {},
   "outputs": [
    {
     "name": "stdout",
     "output_type": "stream",
     "text": [
      "True\n"
     ]
    }
   ],
   "source": [
    "Entrance1 = (input(\"Say No or Yes!\"))\n",
    "Entrance2 = (input(\"Say No or Yes!\"))\n",
    "print(Entrance1 == \"Yes\" or Entrance1 == \"No\" or Entrance2 == \"No\" or Entrance2 == \"Yes\")\n"
   ]
  },
  {
   "cell_type": "markdown",
   "id": "685a1886",
   "metadata": {},
   "source": [
    "<div style=\"color: white;padding-top:0px;text-align:left;background-color:red;border-radius:15px;border: 1px solid white;\"> \n",
    "    <h4>Question 04 (Basic)(50)</h4>\n",
    "</div>"
   ]
  },
  {
   "cell_type": "code",
   "execution_count": 12,
   "id": "13d828cf-b55b-4486-b176-a6a73ff3ca23",
   "metadata": {},
   "outputs": [
    {
     "name": "stdout",
     "output_type": "stream",
     "text": [
      "True\n"
     ]
    }
   ],
   "source": [
    "Entrance1 = (input(\"Say Something!\"))\n",
    "print(Entrance1 != \"\" )"
   ]
  },
  {
   "cell_type": "markdown",
   "id": "7498e245-7d08-4954-a7de-08f891427cc1",
   "metadata": {},
   "source": [
    "<div style=\"color: white;padding-top:0px;text-align:left;background-color:red;border-radius:15px;border: 1px solid white;\"> \n",
    "    <h4>Question 05 (Basic)(50)</h4>\n",
    "</div>"
   ]
  },
  {
   "cell_type": "code",
   "execution_count": 5,
   "id": "e70e6a6b-5c16-4135-9e76-c459febfa6eb",
   "metadata": {},
   "outputs": [
    {
     "name": "stdout",
     "output_type": "stream",
     "text": [
      "1352.0\n"
     ]
    }
   ],
   "source": [
    "Entrance1 = float(input(\"Say the temperature!\"))\n",
    "Result = Entrance1 * 33.8\n",
    "print(Result)"
   ]
  },
  {
   "cell_type": "markdown",
   "id": "631be292-3395-46eb-9244-2a5f44997d82",
   "metadata": {},
   "source": [
    "<div style=\"color: white;padding-top:0px;text-align:left;background-color:red;border-radius:15px;border: 1px solid white;\"> \n",
    "    <h4>Question 06 (Basic)(50)</h4>\n",
    "</div>"
   ]
  },
  {
   "cell_type": "code",
   "execution_count": 21,
   "id": "64767ede-9a93-4da2-ad6a-011d81fe414d",
   "metadata": {},
   "outputs": [
    {
     "name": "stdout",
     "output_type": "stream",
     "text": [
      "30 20\n"
     ]
    }
   ],
   "source": [
    "num1 , num2 , num3 = 17 , 1.8 , 28\n",
    "num4 , num5 , Extra_num = 45 , 12 , 19 ## ===> Error is here ; We have 2 variable here but have 3 value! For each value , we should have one variable!\n",
    "num6 , num7 , num8 = 200 , 300 , 400 ## ===> Eror is here too ; We have 3 variable here but have 2 value! For each variable , we should have one value!\n",
    "name , score , pased = \"sara\", 19 , True \n",
    "var1 = var2 = var3 = 500 ## ===> Here , We have 3 variable and a value ; but this code is ok , because all of variables are equal to the value.\n",
    "## In those codes , Actully we have some continually variables that they are equal to some continually values.\n",
    "## solution is in the code , because If I want to copy the code and write solution in that ; first code will be wrong and rest of codes will be wrong too.\n",
    "\n",
    "num1 = 20 \n",
    "num2 = 30\n",
    "num1 , num2 = num2 , num1 \n",
    "print(num1 , num2)\n",
    "## In those codes , we don't have any errors ; but for explain those ; programmer changes the value of variables together with this code : \"num1 , num2 = num2 , num1 \""
   ]
  },
  {
   "cell_type": "markdown",
   "id": "cb8bde05",
   "metadata": {},
   "source": [
    "<div style=\"color: white;padding-top:18px;text-align:left;background-color:red;border-radius:15px;border: 1px solid white;\"> \n",
    "    <h4>Question 05 (String)(80)</h4>\n",
    "<p> Write a program that prompts the user to enter a password. The program\n",
    "should validate the password based on the following criteria</p>\n",
    "\n",
    "</div>"
   ]
  },
  {
   "cell_type": "raw",
   "id": "fc5d6ee9",
   "metadata": {},
   "source": [
    "The length of the password must be exactly 8 characters.\n",
    "The first four characters of the password must be letters (alphabets).\n",
    "The last four characters of the password must be digits (numbers).\n",
    "If the password meets all the above criteria, the program should display \"Valid\".\n",
    "Otherwise, it should display \"Invalid\"."
   ]
  },
  {
   "cell_type": "code",
   "execution_count": 20,
   "id": "a04b6d1f",
   "metadata": {},
   "outputs": [
    {
     "name": "stdout",
     "output_type": "stream",
     "text": [
      "len : 2 \n",
      "part1: 1 \n",
      "part2: 2\n",
      "Invalid\n"
     ]
    }
   ],
   "source": [
    "# write code here: \n",
    "\n",
    "password = input(\"Enter Your Password: \")\n",
    "\n",
    "len_pass = len(password)\n",
    "\n",
    "middle = len_pass//2\n",
    "\n",
    "part1 = password[:middle]\n",
    "\n",
    "part2 = password[middle:]\n",
    "\n",
    "print(\"len :\",len_pass,\"\\npart1:\",part1,\"\\npart2:\",part2)\n",
    "\n",
    "if len_pass == 8 and part1.isalpha() and part2.isdigit():\n",
    "    \n",
    "    print(\"Valid\")\n",
    "    \n",
    "else:\n",
    "    \n",
    "    print(\"Invalid\")"
   ]
  },
  {
   "cell_type": "markdown",
   "id": "f4491296",
   "metadata": {},
   "source": [
    "<div style=\"color: white;padding-top:0px;text-align:center;background-color:#257662;border-radius:15px;border: 1px solid white;\"> \n",
    "    <h3>Exercise 2 (score:200)</h3>\n",
    "</div>"
   ]
  },
  {
   "cell_type": "markdown",
   "id": "360428f2",
   "metadata": {},
   "source": [
    "<div style=\"color: white;padding-top:0px;text-align:left;background-color:red;border-radius:15px;border: 1px solid white;\"> \n",
    "    <h4>Question 01 (Condition)(50)</h4>\n",
    "</div>"
   ]
  },
  {
   "cell_type": "code",
   "execution_count": 8,
   "id": "b5e76b02-d935-45b4-aa63-c23ec3282906",
   "metadata": {},
   "outputs": [
    {
     "name": "stdout",
     "output_type": "stream",
     "text": [
      "Vowel\n"
     ]
    }
   ],
   "source": [
    "Word1 = input((\"Say a word!\"))\n",
    "if Word1 == \"a\" or Word1 == \"A\" or Word1 == \"e\" or Word1 == \"E\" or Word1 == \"i\" or Word1 == \"I\" or Word1 == \"u\" or Word1 == \"U\" or Word1 == \"o\" or Word1 == \"O\" :\n",
    "    print(\"Vowel\")\n",
    "else : print(\"Consenet\")"
   ]
  },
  {
   "cell_type": "markdown",
   "id": "3a869f83",
   "metadata": {},
   "source": [
    "<div style=\"color: white;padding-top:0px;text-align:left;background-color:red;border-radius:15px;border: 1px solid white;\"> \n",
    "    <h4>Question 02 (Condition)(50)</h4>\n",
    "</div>"
   ]
  },
  {
   "cell_type": "code",
   "execution_count": 15,
   "id": "b5fdaf97-807f-495b-8e42-3bac23a8b14a",
   "metadata": {},
   "outputs": [
    {
     "name": "stdout",
     "output_type": "stream",
     "text": [
      "in Range\n"
     ]
    }
   ],
   "source": [
    "number = int(input((\"Say a number!\")))\n",
    "if number >= 10 and number <= 20 :\n",
    "    print(\"in Range\")\n",
    "else : print(\"Out of Range\")"
   ]
  },
  {
   "cell_type": "markdown",
   "id": "e3adf415",
   "metadata": {},
   "source": [
    "<div style=\"color: white;padding-top:0px;text-align:left;background-color:red;border-radius:15px;border: 1px solid white;\"> \n",
    "    <h4>Question 03 (Condition)(50)</h4>\n",
    "</div>"
   ]
  },
  {
   "cell_type": "code",
   "execution_count": 17,
   "id": "d5329c84-1107-41d7-ad15-681a0442828c",
   "metadata": {},
   "outputs": [
    {
     "name": "stdout",
     "output_type": "stream",
     "text": [
      "Not Greater!\n"
     ]
    }
   ],
   "source": [
    "Number1 = int(input((\"Say a number!\")))\n",
    "Number2 = int(input((\"Say a number!\")))\n",
    "if Number1 + Number2 > 20 :\n",
    "    print(\"Greater!\")\n",
    "else : print(\"Not Greater!\")"
   ]
  },
  {
   "cell_type": "markdown",
   "id": "3eb93eb1",
   "metadata": {},
   "source": [
    "<div style=\"color: white;padding-top:0px;text-align:left;background-color:red;border-radius:15px;border: 1px solid white;\"> \n",
    "    <h4>Question 04 (Condition)(50)</h4>\n",
    "</div>"
   ]
  },
  {
   "cell_type": "code",
   "execution_count": 20,
   "id": "99937553-2a26-4787-b365-d46f41243c5e",
   "metadata": {},
   "outputs": [
    {
     "name": "stdout",
     "output_type": "stream",
     "text": [
      "All colors match!\n"
     ]
    }
   ],
   "source": [
    "Color1 = input((\"Say a color!\"))\n",
    "Color2 = input((\"Say a color!\"))\n",
    "Color3 = input((\"Say a color!\"))\n",
    "if Color1 == Color2 == Color3 :\n",
    "        print(\"All colors match!\")\n",
    "elif Color1 == Color2 or Color1 == Color3 or Color2 == Color3 :\n",
    "        print(\"Two colors match!\")\n",
    "else : print(\"No colors match.\")"
   ]
  },
  {
   "cell_type": "markdown",
   "id": "293056e3",
   "metadata": {},
   "source": [
    "<h2 style=\"color: blue:; background-color: purple\">Good luck</h2>"
   ]
  }
 ],
 "metadata": {
  "kernelspec": {
   "display_name": "Python 3 (ipykernel)",
   "language": "python",
   "name": "python3"
  },
  "language_info": {
   "codemirror_mode": {
    "name": "ipython",
    "version": 3
   },
   "file_extension": ".py",
   "mimetype": "text/x-python",
   "name": "python",
   "nbconvert_exporter": "python",
   "pygments_lexer": "ipython3",
   "version": "3.12.4"
  }
 },
 "nbformat": 4,
 "nbformat_minor": 5
}
