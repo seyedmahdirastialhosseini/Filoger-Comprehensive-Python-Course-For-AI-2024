{
 "cells": [
  {
   "cell_type": "markdown",
   "id": "fb7a8054",
   "metadata": {},
   "source": [
    "<div style=\"color: white;padding-top:18px;text-align:center;background-color:#8B008B;border-radius:15px;border: 1px solid white;\"> \n",
    "    <h3>Exercise 8 (score:500)</h3>\n",
    "</div>"
   ]
  },
  {
   "cell_type": "markdown",
   "id": "bd5458df",
   "metadata": {},
   "source": [
    "<div style=\"color: black;font-family:Georgia;padding-top:18px;text-align:left;background-color:lightskyblue;border-radius:15px;border: 2px solid cornflowerblue;\">\n",
    "    <h4>Question 01 (Function)(100):</h4>\n",
    "    <p>\n",
    "        Write question of exercise 6 by function. \n",
    "    </p>\n",
    "</div>"
   ]
  },
  {
   "cell_type": "code",
   "execution_count": null,
   "id": "99937553-2a26-4787-b365-d46f41243c5e",
   "metadata": {},
   "outputs": [],
   "source": [
    "## I upload the .py file in my zip file!"
   ]
  },
  {
   "cell_type": "markdown",
   "id": "014bb5de",
   "metadata": {},
   "source": [
    "<div style=\"color: black;font-family:Georgia;padding-top:18px;text-align:left;background-color:lightskyblue;border-radius:15px;border: 2px solid cornflowerblue;\">\n",
    "    <h4>Question 02 (dictionary)(100):</h4>\n",
    "    <p>\n",
    "        Below list is information of a product, change this list to dictionary and answer to questions? \n",
    "    </p>\n",
    "    <ol>\n",
    "  <li>What is the name of the product?</li>\n",
    "  <li>What is the price of the product?</li>\n",
    "  <li>What is the color of the product?</li>\n",
    "  <li>When was the product released?</li>\n",
    "  <li>Can you change the color of the product to 'Silver'?</li>\n",
    "  <li>Create a list with 4 products buy this structure.</li>\n",
    "</ol>\n",
    "</div>"
   ]
  },
  {
   "cell_type": "code",
   "execution_count": 2,
   "id": "064621d4",
   "metadata": {},
   "outputs": [
    {
     "name": "stdout",
     "output_type": "stream",
     "text": [
      "Apple iPhone\n",
      "999.99\n",
      "Gray\n",
      "July 2021\n",
      "Silver\n",
      "[{'Name': 'Sumsung Galaxy A55', 'Price': 500, 'Color': 'Black', 'Release': 'August 2024'}, {'Name': 'ASUS Zenfone 10', 'Price': 800, 'Color': 'White', 'Release': 'July 2023'}, {'Name': 'Motorola Edge 50 Pro', 'Price': 700, 'Color': 'Purple', 'Release': 'April 2024'}, {'Name': 'Redmi Note 13 Pro', 'Price': 200, 'Color': 'Green', 'Release': 'September 2023'}]\n"
     ]
    }
   ],
   "source": [
    "product1 = {\"Name\" : \"Apple iPhone\" , \"Price\" : 999.99 , \"Color\" : \"Gray\" , \"Release\" : \"July 2021\"}\n",
    "# Number1\n",
    "print(product1[\"Name\"]) \n",
    "# Number2\n",
    "print(product1[\"Price\"]) \n",
    "# Number3\n",
    "print(product1[\"Color\"]) \n",
    "# Number4\n",
    "print(product1[\"Release\"]) \n",
    "# Number5\n",
    "product1[\"Color\"] = \"Silver\" \n",
    "print(product1[\"Color\"])\n",
    "# Number6\n",
    "products = []\n",
    "product2 = {\"Name\" : \"Sumsung Galaxy A55\" , \"Price\" : 500 , \"Color\" : \"Black\" , \"Release\" : \"August 2024\"}\n",
    "product3 = {\"Name\" : \"ASUS Zenfone 10\" , \"Price\" : 800 , \"Color\" : \"White\" , \"Release\" : \"July 2023\"}\n",
    "product4 = {\"Name\" : \"Motorola Edge 50 Pro\" , \"Price\" : 700 , \"Color\" : \"Purple\" , \"Release\" : \"April 2024\"}\n",
    "product5 = {\"Name\" : \"Redmi Note 13 Pro\" , \"Price\" : 200 , \"Color\" : \"Green\" , \"Release\" : \"September 2023\"}\n",
    "products.append(product2)\n",
    "products.append(product3)\n",
    "products.append(product4)\n",
    "products.append(product5)\n",
    "print(products)"
   ]
  },
  {
   "cell_type": "markdown",
   "id": "5c81e750",
   "metadata": {},
   "source": [
    "<div style=\"color: black;font-family:Georgia;padding-top:18px;text-align:left;background-color:lightskyblue;border-radius:15px;border: 2px solid cornflowerblue;\">\n",
    "    <h4>Question 03 (dictionary)(100):</h4>\n",
    "    <p>\n",
    "    create a dictionary named student_grades containing three students' names as keys and their grades as values. Perform the following: \n",
    "    </p>\n",
    "    <ul>\n",
    "    <li>add two new students with their grades to student_grades, names are unique.</li>  \n",
    "    <li>Delete any students from student_grades who have grades below 10.</li>\n",
    "    <li>Get a name from the user If the user's name is in the dictionary of students, get a new grade and change the student's grade.</li> \n",
    "    <li>Show the average scores of all students.</li>\n",
    "    </ul>\n",
    "</div>"
   ]
  },
  {
   "cell_type": "code",
   "execution_count": 2,
   "id": "50e67dcd",
   "metadata": {},
   "outputs": [
    {
     "name": "stdout",
     "output_type": "stream",
     "text": [
      "{'Karimi': 19, 'Heidari': 14, 'Mansori': 19}\n",
      "The average of scores: 13.35\n"
     ]
    }
   ],
   "source": [
    "student_grades_final = {}\n",
    "student_grades = {\"Karimi\" : 19 , \"Yazdi\" : 9 , \"Heidari\" : 14}\n",
    "student_grades[\"Mansori\"] = 18.25\n",
    "student_grades[\"Shahidi\"] = 6.5\n",
    "for k , v in student_grades.items() :\n",
    "    if v > 10 :\n",
    "         student_grades_final[k] = v\n",
    "new_name = input((\"Say the student name: \"))\n",
    "if new_name in student_grades_final.keys() :\n",
    "    new_gread = int(input(\"Say a new gread: \"))\n",
    "    student_grades_final[new_name] = new_gread\n",
    "else : \n",
    "      print(\"Your student name not found!\")\n",
    "sum_scores = []\n",
    "for v in student_grades.values() : \n",
    "     sum_scores.append(v)\n",
    "sum_scores1 = sum(sum_scores)\n",
    "Average = sum_scores1 / len(student_grades)\n",
    "print(student_grades_final)\n",
    "print(f\"The average of scores: {Average}\")"
   ]
  },
  {
   "cell_type": "markdown",
   "id": "34326ff6",
   "metadata": {},
   "source": [
    "<div style=\"color: black;font-family:Georgia;padding-top:18px;text-align:left;background-color:lightskyblue;border-radius:15px;border: 2px solid cornflowerblue;\">\n",
    "    <h4>Question 04 (dictionary)(50):</h4>\n",
    "    <p>\n",
    "    What is the difference between the get() method and direct key access in a dictionary?\n",
    "    </p>\n",
    "</div>"
   ]
  },
  {
   "cell_type": "code",
   "execution_count": 15,
   "id": "3384ea23",
   "metadata": {},
   "outputs": [
    {
     "name": "stdout",
     "output_type": "stream",
     "text": [
      "None\n"
     ]
    },
    {
     "ename": "KeyError",
     "evalue": "'Level'",
     "output_type": "error",
     "traceback": [
      "\u001b[0;31m---------------------------------------------------------------------------\u001b[0m",
      "\u001b[0;31mKeyError\u001b[0m                                  Traceback (most recent call last)",
      "Cell \u001b[0;32mIn[15], line 6\u001b[0m\n\u001b[1;32m      4\u001b[0m \u001b[38;5;28mprint\u001b[39m(Resault1)\n\u001b[1;32m      5\u001b[0m \u001b[38;5;66;03m## But when we get a wrong key for direct access to our dictionary ; we give error from it!\u001b[39;00m\n\u001b[0;32m----> 6\u001b[0m Resault2 \u001b[38;5;241m=\u001b[39m \u001b[43mDic\u001b[49m\u001b[43m[\u001b[49m\u001b[38;5;124;43m\"\u001b[39;49m\u001b[38;5;124;43mLevel\u001b[39;49m\u001b[38;5;124;43m\"\u001b[39;49m\u001b[43m]\u001b[49m\n\u001b[1;32m      7\u001b[0m \u001b[38;5;28mprint\u001b[39m(Resault2)\n",
      "\u001b[0;31mKeyError\u001b[0m: 'Level'"
     ]
    }
   ],
   "source": [
    "Dic = {\"Name\" : \"Alireza\" , \"Score\" : 18.75 , \"Class\" : \"Class B2\"}\n",
    "## When we give a wrong key to get() method , output is none and we don't have any error!\n",
    "Resault1 = Dic.get(\"Level\")\n",
    "print(Resault1)\n",
    "## But when we give a wrong key for direct access to our dictionary ; we get error from it!\n",
    "Resault2 = Dic[\"Level\"]\n",
    "print(Resault2)"
   ]
  },
  {
   "cell_type": "markdown",
   "id": "f31d7edb",
   "metadata": {},
   "source": [
    "<div style=\"color: black;font-family:Georgia;padding-top:18px;text-align:left;background-color:lightskyblue;border-radius:15px;border: 2px solid cornflowerblue;\">\n",
    "    <h4>Question 05 (dictionary)(150):</h4>\n",
    "    <p>\n",
    "    Create a dictionary named employee_data where the keys are employee IDs (as strings) and the values are dictionaries containing the employee's name, age, and salary. Perform the following: \n",
    "    </p>\n",
    "    <ul>\n",
    "    <li>Add information for three new employees, making sure each ID is unique.</li>  \n",
    "    <li>Update the salary for an employee if their age is over 50, increasing it by 10%.</li>\n",
    "    <li>Remove any employee from employee_data whose salary is below 3000.</li> \n",
    "    <li>Ask the user for an employee ID. If the ID exists, update the employee's age and name as provided by the user.</li>\n",
    "    <li>Calculate and display the total salary expenditure for all employees in the dictionary.</li>\n",
    "    </ul>\n",
    "</div>"
   ]
  },
  {
   "cell_type": "code",
   "execution_count": 4,
   "id": "2a74e859",
   "metadata": {},
   "outputs": [
    {
     "name": "stdout",
     "output_type": "stream",
     "text": [
      "{'e11': {'Name': 'Amin', 'Age': 65, 'Salary': 4400}}\n",
      "{'e11': {'Name': 'Amin', 'Age': 65, 'Salary': 4400}, 'e12': {'Name': 'Ali', 'Age': 23, 'Salary': 6000}}\n",
      "{'e11': {'Name': 'Mina', 'Age': 23, 'Salary': 4400}, 'e12': {'Name': 'Ali', 'Age': 23, 'Salary': 6000}}\n",
      "Sum of salaries of all employees: 12900\n"
     ]
    }
   ],
   "source": [
    "employee_data = {}\n",
    "for i in range(3) : \n",
    "    ID = input((\"Say a unique employee ID: \"))\n",
    "    while ID in employee_data :\n",
    "        ID = input((\"Say a unique employee ID: \"))\n",
    "    Name = input((\"Say a employee name: \"))\n",
    "    Age = int(input((\"Say a employee age: \")))\n",
    "    Salary = int(input((\"Say a employee salary: \")))\n",
    "    employee_data1 = {\"Name\" : Name , \"Age\" : Age , \"Salary\" : Salary}\n",
    "    employee_data.update({ID : employee_data1})\n",
    "\n",
    "for v in employee_data.values() :\n",
    "    if v[\"Age\"] >= 50 :\n",
    "        v[\"Salary\"] = round(v[\"Salary\"] * 1.1)\n",
    "\n",
    "employee_data_final = {}\n",
    "for k , v in employee_data.items() :\n",
    "    if v[\"Salary\"] > 3000 :\n",
    "        employee_data_final[k] = v\n",
    "        print(employee_data_final)\n",
    "\n",
    "\n",
    "employee_id = input((\"Say the employee ID: \"))\n",
    "if employee_id in employee_data_final.keys() :\n",
    "    new_name = input((\"Say new employee name: \"))\n",
    "    new_age = int(input((\"Say new employee age: \")))\n",
    "    employee_data_final[employee_id][\"Name\"] = new_name\n",
    "    employee_data_final[employee_id][\"Age\"] = new_age\n",
    "    print(employee_data_final)\n",
    "else : \n",
    "    print(\"Your employee ID not found!\")\n",
    "\n",
    "total_salary = []\n",
    "for v in employee_data.values() :\n",
    "    total_salary.append(v[\"Salary\"])\n",
    "    Total = sum(total_salary)\n",
    "\n",
    "print(f\"Sum of salaries of all employees: {Total}\")"
   ]
  },
  {
   "cell_type": "code",
   "execution_count": null,
   "id": "354e53d2",
   "metadata": {},
   "outputs": [],
   "source": [
    "## This solution is second solution ; it for sometimes you don't want to give information from user!\n",
    "\n",
    "employee_data = {\"e11\" : {\"Name\" : \"Kazemi\" , \"Age\" : 35 , \"Salary\" : 2750} , \"e12\" : {\"Name\" : \"Akbari\" , \"Age\" : 52 , \"Salary\" : 5600} , \"e13\" : {\"Name\" : \"Mahdavi\" , \"Age\" : 21 , \"Salary\" : 3100}}\n",
    "\n",
    "for v in employee_data.values() :\n",
    "    if v[\"Age\"] >= 50 :\n",
    "        v[\"Salary\"] = round(v[\"Salary\"] * 1.1)\n",
    "\n",
    "employee_data_final = {}\n",
    "for k , v in employee_data.items() :\n",
    "    if v[\"Salary\"] > 3000 :\n",
    "        employee_data_final[k] = v\n",
    "print(employee_data_final)\n",
    "\n",
    "employee_id = input((\"Say the employee ID: \"))\n",
    "if employee_id in employee_data.keys() :\n",
    "    new_name = input((\"Say new employee name: \"))\n",
    "    new_age = int(input((\"Say new employee age: \")))\n",
    "    employee_data[employee_id][\"Name\"] = new_name\n",
    "    employee_data[employee_id][\"Age\"] = new_age\n",
    "else : \n",
    "    print(\"Your employee ID not found!\")\n",
    "\n",
    "total_salary = []\n",
    "for v in employee_data.values() :\n",
    "    total_salary.append(v[\"Salary\"])\n",
    "    Total = sum(total_salary)\n",
    "\n",
    "print(employee_data)\n",
    "print(f\"Sum of salaries of all employees: {Total}\")"
   ]
  },
  {
   "cell_type": "markdown",
   "id": "293056e3",
   "metadata": {},
   "source": [
    "<h2 style=\"color: blue:; background-color: purple\">Good luck</h2>"
   ]
  }
 ],
 "metadata": {
  "kernelspec": {
   "display_name": "Python 3 (ipykernel)",
   "language": "python",
   "name": "python3"
  },
  "language_info": {
   "codemirror_mode": {
    "name": "ipython",
    "version": 3
   },
   "file_extension": ".py",
   "mimetype": "text/x-python",
   "name": "python",
   "nbconvert_exporter": "python",
   "pygments_lexer": "ipython3",
   "version": "3.12.4"
  }
 },
 "nbformat": 4,
 "nbformat_minor": 5
}
